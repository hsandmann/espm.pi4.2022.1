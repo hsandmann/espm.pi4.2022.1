{
  "nbformat": 4,
  "nbformat_minor": 0,
  "metadata": {
    "colab": {
      "name": "Insper :: Python Aplicado : Aula Demonstração",
      "provenance": [],
      "collapsed_sections": [],
      "include_colab_link": true
    },
    "kernelspec": {
      "name": "python3",
      "display_name": "Python 3"
    }
  },
  "cells": [
    {
      "cell_type": "markdown",
      "metadata": {
        "id": "view-in-github",
        "colab_type": "text"
      },
      "source": [
        "<a href=\"https://colab.research.google.com/github/hsandmann/espm.pi4.2022.1/blob/main/espm_python_introducao.ipynb\" target=\"_parent\"><img src=\"https://colab.research.google.com/assets/colab-badge.svg\" alt=\"Open In Colab\"/></a>"
      ]
    },
    {
      "cell_type": "markdown",
      "metadata": {
        "id": "0aYyMpOPWjLl"
      },
      "source": [
        "![alt text](https://www.insper.edu.br/wp-content/themes/insper/dist/image/logo.png)\n",
        "\n",
        "# Python Aplicado\n",
        "## Aula Demonstração\n",
        "### Prof. Humberto Sandmann\n",
        "##### 27.06.2019\n",
        "---\n",
        "\n"
      ]
    },
    {
      "cell_type": "markdown",
      "metadata": {
        "id": "2xNEW6yn4Gzg"
      },
      "source": [
        "### Objetivos\n",
        "\n",
        "* Entender e escrever códigos simples em Python;\n",
        "* Utilizar Python para confeccionar e manipular gráficos.\n",
        "---"
      ]
    },
    {
      "cell_type": "markdown",
      "metadata": {
        "id": "uVqyfEPgbxO4"
      },
      "source": [
        "### 1. O que é Python?\n",
        "\n",
        "> Linguagem de programação:\n",
        "* alto nível (fácil aprendizagem);\n",
        "* uso geral;\n",
        "* interpretada;\n",
        "* 1991, mas está **hype**, pois tem um repertório amplo de bibliotecas.\n",
        "\n",
        "> Um programa é um script, o qual é **executado linha a linha**, eg.: \n",
        "* executa linha 1;\n",
        "* executa linha 2;\n",
        "* executa linha 3;\n",
        "* ...;\n",
        "* executa a última linha.\n",
        "\n",
        "> Pode ter repetições, desvios, funções e classes (pontos mais ousados, logo, serão tratados ao longo do curso).\n",
        "\n",
        "> #### Onde usar?\n",
        ">>\n",
        "* tratamento e processamento de dados;\n",
        "* tabelas;\n",
        "* estatísticas;\n",
        "* gráficos;\n",
        "* projeções;\n",
        "* aprendizado de máquina: predição e classificação;\n",
        "* experimentação científica;\n",
        "* etc."
      ]
    },
    {
      "cell_type": "markdown",
      "metadata": {
        "id": "7Jw7VZy43ibH"
      },
      "source": [
        "### 2. Onde está o Python?\n",
        "\n",
        "> #### Local (no seu computador)\n",
        ">> \n",
        "* PyCharm\n",
        "* Spyder\n",
        "* Terminal\n",
        "\n",
        ">> Configurar o ambiente local (exercício para casa):\n",
        "* Instalar o Python\n",
        "* Instalar o Editor\n",
        "\n",
        "> #### Remoto (num servidor)\n",
        ">>\n",
        "* Jupyter Notebook\n",
        "\n",
        ">> Ambiente pronto pra usar:\n",
        "* Colaboratory da Google - **Colab**<br>\n",
        "[https://colab.research.google.com](https://colab.research.google.com)"
      ]
    },
    {
      "cell_type": "markdown",
      "metadata": {
        "id": "zL3jr92p3v-L"
      },
      "source": [
        "### 3. Programando em Python"
      ]
    },
    {
      "cell_type": "markdown",
      "metadata": {
        "id": "s5xT4WFdXdWR"
      },
      "source": [
        "#### 3a. Primeiro programa"
      ]
    },
    {
      "cell_type": "code",
      "metadata": {
        "id": "ac5J6GPwav9q"
      },
      "source": [
        "print(\"Hello World\")    # Executa a linha, imprime no console \"Hello World\""
      ],
      "execution_count": null,
      "outputs": []
    },
    {
      "cell_type": "markdown",
      "metadata": {
        "id": "hdsJW_eC379S"
      },
      "source": [
        "#### 3b. Manipulando variáveis numéricas"
      ]
    },
    {
      "cell_type": "markdown",
      "metadata": {
        "id": "Ij2FJJHqVumh"
      },
      "source": [
        "Usando como uma calculadora"
      ]
    },
    {
      "cell_type": "code",
      "metadata": {
        "id": "yPPMAahobE1Q",
        "colab": {
          "base_uri": "https://localhost:8080/"
        },
        "outputId": "dd5eac93-bc21-4f68-b0bd-76288d42ab92"
      },
      "source": [
        "a = 10                   # a recebe 10\n",
        "b = 20                   # b recebe 20\n",
        "c = a + b                # c recebe a + b\n",
        "\n",
        "print(c)                 # qual será o valor impresso no console?"
      ],
      "execution_count": 1,
      "outputs": [
        {
          "output_type": "stream",
          "name": "stdout",
          "text": [
            "30\n"
          ]
        }
      ]
    },
    {
      "cell_type": "markdown",
      "metadata": {
        "id": "GGy7VGVSU8hJ"
      },
      "source": [
        "Relembrando um pouco a matemática"
      ]
    },
    {
      "cell_type": "code",
      "metadata": {
        "id": "uNAb90e2VptI",
        "colab": {
          "base_uri": "https://localhost:8080/"
        },
        "outputId": "9ca210f6-af4d-4cfe-fd38-98a228c48191"
      },
      "source": [
        "a = 8                    # a recebe 8\n",
        "b = 2                    # b recebe 2\n",
        "c = a / b * (b + b)      # c recebe a ÷ b × (1 + a) , sendo \"/\" divisão e \"*\" multiplicação\n",
        "\n",
        "\n",
        "print(c)                 # qual será o valor impresso no console?"
      ],
      "execution_count": 2,
      "outputs": [
        {
          "output_type": "stream",
          "name": "stdout",
          "text": [
            "16.0\n"
          ]
        }
      ]
    },
    {
      "cell_type": "markdown",
      "metadata": {
        "id": "hm9Oh34mWKCb"
      },
      "source": [
        "#### 3c. Exercício: Faça um programa que calcule a área de um triângulo"
      ]
    },
    {
      "cell_type": "code",
      "metadata": {
        "id": "pPHQgbTnWIpS",
        "colab": {
          "base_uri": "https://localhost:8080/"
        },
        "outputId": "36c842cb-eb3b-4a32-f14e-8d5c064f65ed"
      },
      "source": [
        "base = 10\n",
        "altura = 8\n",
        "# Como se calcula a área???\n",
        "\n",
        "area = base * altura / 2\n",
        "print(area)\n"
      ],
      "execution_count": 3,
      "outputs": [
        {
          "output_type": "stream",
          "name": "stdout",
          "text": [
            "40.0\n"
          ]
        }
      ]
    },
    {
      "cell_type": "code",
      "source": [
        "import math \n",
        "\n",
        "x1, y1 = 0, 0\n",
        "x2, y2 = 3, 4\n",
        "\n",
        "d1 = math.sqrt((x1-x2)**2+(y2-y1)**2)\n",
        "d2 = ((x1-x2)**2+(y2-y1)**2)**(1/2)\n",
        "print(d1)\n",
        "print(d2)"
      ],
      "metadata": {
        "colab": {
          "base_uri": "https://localhost:8080/"
        },
        "id": "wQe3u4DZGVOA",
        "outputId": "c4706e82-6988-4914-9414-5a2c5f875feb"
      },
      "execution_count": 7,
      "outputs": [
        {
          "output_type": "stream",
          "name": "stdout",
          "text": [
            "5.0\n",
            "5.0\n"
          ]
        }
      ]
    },
    {
      "cell_type": "markdown",
      "metadata": {
        "id": "hqgJCAY3aGrP"
      },
      "source": [
        "#### 3d. Manipulando dados e plotando, com dados gerados"
      ]
    },
    {
      "cell_type": "code",
      "metadata": {
        "id": "ZNct8ITTpdHN"
      },
      "source": [
        "import matplotlib.pyplot as plt                 # importando uma biblioteca de gráfico!\n",
        "\n",
        "idade      = [17, 18, 19, 20, 21, 22, 23, 24]   # faixa das idades dos alunos da sala\n",
        "quantidade = [ 1,  4, 10, 13, 15, 12,  6,  2]   # quantidade de alunos de acordo com a idade\n",
        "\n",
        "plt.bar(idade, quantidade)                      # imprime um gráfico da relação idade x quantidade de alunos"
      ],
      "execution_count": null,
      "outputs": []
    },
    {
      "cell_type": "markdown",
      "metadata": {
        "id": "j9CeMScBaTMe"
      },
      "source": [
        "#### 3e. Aplicando em dados reais (série do IPCA)"
      ]
    },
    {
      "cell_type": "code",
      "metadata": {
        "id": "u1J-rE6IaaZy",
        "colab": {
          "base_uri": "https://localhost:8080/",
          "height": 203
        },
        "outputId": "4983c88e-db77-44de-cd6c-00039b08088e"
      },
      "source": [
        "import matplotlib.pyplot as plt      # importando uma biblioteca para gráficos\n",
        "import pandas as pd                  # importando uma biblioteca para tabelas\n",
        "\n",
        "# endereço de uma base de variação do IPCA em formato CSV (1)\n",
        "url_bacen_ipca = 'http://api.bcb.gov.br/dados/serie/bcdata.sgs.16122/dados?formato=csv'\n",
        "\n",
        "# adquirindo os dados da internet e atribuindo o conteúdo a uma variável chamada dados\n",
        "# separador no Brasil é ;\n",
        "# casa dexcimal no Brasil é , (SI)\n",
        "dados = pd.read_csv(url_bacen_ipca, sep=';', decimal=',')\n",
        "\n",
        "dados.head()                         # imprimindo no console os 5 primeiros dados da série, para verificação"
      ],
      "execution_count": null,
      "outputs": [
        {
          "output_type": "execute_result",
          "data": {
            "text/html": [
              "<div>\n",
              "<style scoped>\n",
              "    .dataframe tbody tr th:only-of-type {\n",
              "        vertical-align: middle;\n",
              "    }\n",
              "\n",
              "    .dataframe tbody tr th {\n",
              "        vertical-align: top;\n",
              "    }\n",
              "\n",
              "    .dataframe thead th {\n",
              "        text-align: right;\n",
              "    }\n",
              "</style>\n",
              "<table border=\"1\" class=\"dataframe\">\n",
              "  <thead>\n",
              "    <tr style=\"text-align: right;\">\n",
              "      <th></th>\n",
              "      <th>data</th>\n",
              "      <th>valor</th>\n",
              "    </tr>\n",
              "  </thead>\n",
              "  <tbody>\n",
              "    <tr>\n",
              "      <th>0</th>\n",
              "      <td>01/01/1995</td>\n",
              "      <td>1.66</td>\n",
              "    </tr>\n",
              "    <tr>\n",
              "      <th>1</th>\n",
              "      <td>01/02/1995</td>\n",
              "      <td>1.36</td>\n",
              "    </tr>\n",
              "    <tr>\n",
              "      <th>2</th>\n",
              "      <td>01/03/1995</td>\n",
              "      <td>1.51</td>\n",
              "    </tr>\n",
              "    <tr>\n",
              "      <th>3</th>\n",
              "      <td>01/04/1995</td>\n",
              "      <td>2.45</td>\n",
              "    </tr>\n",
              "    <tr>\n",
              "      <th>4</th>\n",
              "      <td>01/05/1995</td>\n",
              "      <td>2.44</td>\n",
              "    </tr>\n",
              "  </tbody>\n",
              "</table>\n",
              "</div>"
            ],
            "text/plain": [
              "         data  valor\n",
              "0  01/01/1995   1.66\n",
              "1  01/02/1995   1.36\n",
              "2  01/03/1995   1.51\n",
              "3  01/04/1995   2.45\n",
              "4  01/05/1995   2.44"
            ]
          },
          "metadata": {
            "tags": []
          },
          "execution_count": 1
        }
      ]
    },
    {
      "cell_type": "markdown",
      "metadata": {
        "id": "9iuEmz05iqej"
      },
      "source": [
        "Tratar melhor os dados recebidos: conversões, índices e outros."
      ]
    },
    {
      "cell_type": "code",
      "metadata": {
        "id": "XYLfBrN5MpFh",
        "colab": {
          "base_uri": "https://localhost:8080/",
          "height": 234
        },
        "outputId": "d11ec4f2-b4e9-4633-d4ab-f944f3d79280"
      },
      "source": [
        "dados['data'] = pd.to_datetime(dados['data'], format='%d/%m/%Y') # convertendo a data, pois o padrão do python é yyyy-mm-dd\n",
        "dados = dados.set_index(['data'], drop=True)                     # definindo a data como índice da tabela\n",
        "dados.head()                                                     # imprimindo a tabela após as transformações"
      ],
      "execution_count": null,
      "outputs": [
        {
          "output_type": "execute_result",
          "data": {
            "text/html": [
              "<div>\n",
              "<style scoped>\n",
              "    .dataframe tbody tr th:only-of-type {\n",
              "        vertical-align: middle;\n",
              "    }\n",
              "\n",
              "    .dataframe tbody tr th {\n",
              "        vertical-align: top;\n",
              "    }\n",
              "\n",
              "    .dataframe thead th {\n",
              "        text-align: right;\n",
              "    }\n",
              "</style>\n",
              "<table border=\"1\" class=\"dataframe\">\n",
              "  <thead>\n",
              "    <tr style=\"text-align: right;\">\n",
              "      <th></th>\n",
              "      <th>valor</th>\n",
              "    </tr>\n",
              "    <tr>\n",
              "      <th>data</th>\n",
              "      <th></th>\n",
              "    </tr>\n",
              "  </thead>\n",
              "  <tbody>\n",
              "    <tr>\n",
              "      <th>1995-01-01</th>\n",
              "      <td>1.66</td>\n",
              "    </tr>\n",
              "    <tr>\n",
              "      <th>1995-02-01</th>\n",
              "      <td>1.36</td>\n",
              "    </tr>\n",
              "    <tr>\n",
              "      <th>1995-03-01</th>\n",
              "      <td>1.51</td>\n",
              "    </tr>\n",
              "    <tr>\n",
              "      <th>1995-04-01</th>\n",
              "      <td>2.45</td>\n",
              "    </tr>\n",
              "    <tr>\n",
              "      <th>1995-05-01</th>\n",
              "      <td>2.44</td>\n",
              "    </tr>\n",
              "  </tbody>\n",
              "</table>\n",
              "</div>"
            ],
            "text/plain": [
              "            valor\n",
              "data             \n",
              "1995-01-01   1.66\n",
              "1995-02-01   1.36\n",
              "1995-03-01   1.51\n",
              "1995-04-01   2.45\n",
              "1995-05-01   2.44"
            ]
          },
          "metadata": {
            "tags": []
          },
          "execution_count": 2
        }
      ]
    },
    {
      "cell_type": "markdown",
      "metadata": {
        "id": "y0yyeWjOOfJE"
      },
      "source": [
        "Finalmente, imprimindo um gráfico com a série numérica do IPCA"
      ]
    },
    {
      "cell_type": "code",
      "metadata": {
        "id": "Dp4SHy8VK2E5",
        "colab": {
          "base_uri": "https://localhost:8080/",
          "height": 282
        },
        "outputId": "cae2baad-87fe-42aa-8b8a-eaf7f27d8f4e"
      },
      "source": [
        "plt.plot(dados)          # imprime o gráfico da série temporal"
      ],
      "execution_count": null,
      "outputs": [
        {
          "output_type": "execute_result",
          "data": {
            "text/plain": [
              "[<matplotlib.lines.Line2D at 0x7fb26e650400>]"
            ]
          },
          "metadata": {
            "tags": []
          },
          "execution_count": 3
        },
        {
          "output_type": "display_data",
          "data": {
            "image/png": "[encoded data removed]",
            "text/plain": [
              "<Figure size 432x288 with 1 Axes>"
            ]
          },
          "metadata": {
            "tags": [],
            "needs_background": "light"
          }
        }
      ]
    },
    {
      "cell_type": "markdown",
      "metadata": {
        "id": "TiphESFSXPeK"
      },
      "source": [
        "### 4. Resumindo\n",
        "\n",
        "1. É uma linguagem simples e de rápida escrita;\n",
        "2. Python possui diversos colaboradores, por isso, um grande número de bibliotecas bem testadas e bem úteis;\n",
        "3. Um programa, por ser um script, tem garantia de reprodutibilidade;\n",
        "4. Ambiente Remoto (colab);\n",
        "5. Comandos aprendidos:\n",
        "  * impressão no console: `print()`\n",
        "  * variável: `x = 23`\n",
        "  * introdução a gráficos: plot\n",
        "    * com dados gerados;\n",
        "    * com dados reais."
      ]
    },
    {
      "cell_type": "markdown",
      "metadata": {
        "id": "kJyZGClua0u1"
      },
      "source": [
        "### 5. Próximo encontro\n",
        "\n",
        "1. Variáveis\n",
        "2. Lista de dados\n",
        "3. Dicionário"
      ]
    },
    {
      "cell_type": "markdown",
      "metadata": {
        "id": "UjLqne0s4bha"
      },
      "source": [
        "### 6. Exercícios\n",
        "\n",
        "#### Obrigatório\n",
        "\n",
        "1. Mudar as variáveis e valores dos exemplos e executar novamente os programas a fim de notar as diferenças nos resultados;\n",
        "2. Fazer um programa que calcule a área de um círculo, dada a variável raio;\n",
        "3. Procurar uma série de dados na internet e projetar num gráfico, por exemplo, séries de ações do mercado financeiro;\n",
        "> e.g.: https://ca.finance.yahoo.com/quote/%5Evix/history?ltr=1\n",
        "\n",
        "#### Complementar\n",
        "\n",
        "1. Instalar o Python no computador;\n",
        "2. Instalar o Anaconda com Spyder ([Anaconda](https://www.anaconda.com/));\n",
        "3. Tentar reproduzir os exemplos da aula no ambiente local;"
      ]
    },
    {
      "cell_type": "markdown",
      "metadata": {
        "id": "_2gjoEVp1qnU"
      },
      "source": [
        "### 7. Referências\n",
        "\n",
        "1. [Bacen - Índice nacional de preços ao consumidor - Amplo (IPCA) - Núcleo de dupla ponderação](https://dadosabertos.bcb.gov.br/dataset/16122-indice-nacional-de-precos-ao-consumidor---amplo-ipca---nucleo-de-dupla-ponderacao)\n",
        "2. [Pandas Doc](https://pandas.pydata.org/pandas-docs/stable/)\n",
        "3. [MatPlotLib - Pyplot tutorial](https://matplotlib.org/3.1.0/tutorials/introductory/pyplot.html)"
      ]
    },
    {
      "cell_type": "markdown",
      "metadata": {
        "id": "I5HL6y5FomlS"
      },
      "source": [
        "## Obrigado!"
      ]
    }
  ]
}